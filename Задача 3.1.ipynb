{
  "nbformat": 4,
  "nbformat_minor": 0,
  "metadata": {
    "colab": {
      "provenance": [],
      "authorship_tag": "ABX9TyNiwTNdcY4EmyNGU9itInil",
      "include_colab_link": true
    },
    "kernelspec": {
      "name": "python3",
      "display_name": "Python 3"
    },
    "language_info": {
      "name": "python"
    }
  },
  "cells": [
    {
      "cell_type": "markdown",
      "metadata": {
        "id": "view-in-github",
        "colab_type": "text"
      },
      "source": [
        "<a href=\"https://colab.research.google.com/github/oceanuriy/homework/blob/main/Untitled13.ipynb\" target=\"_parent\"><img src=\"https://colab.research.google.com/assets/colab-badge.svg\" alt=\"Open In Colab\"/></a>"
      ]
    },
    {
      "cell_type": "code",
      "source": [
        "# Задача 3.1.\n",
        "# Создайте класс матрицы (или таблицы).\n",
        "# Требования к классу:\n",
        "#   - каждая колонка является числом от 1 до n (n любое число, которые вы поставите!)\n",
        "#   - в каждой ячейке содержится либо число, либо None\n",
        "#   - доступы следующие методы матрицы:\n",
        "#       * принимать новые значения,\n",
        "#       * заменять существующие значения,\n",
        "#       * выводить число строк и колонок.\n",
        "\n",
        "# Пример матрицы 10 на 10 из единиц:\n",
        "# [[1, 1, 1, 1, 1, 1, 1, 1, 1, 1],\n",
        "#  [1, 1, 1, 1, 1, 1, 1, 1, 1, 1],\n",
        "#  [1, 1, 1, 1, 1, 1, 1, 1, 1, 1],\n",
        "#  [1, 1, 1, 1, 1, 1, 1, 1, 1, 1],\n",
        "#  [1, 1, 1, 1, 1, 1, 1, 1, 1, 1],\n",
        "#  [1, 1, 1, 1, 1, 1, 1, 1, 1, 1],\n",
        "#  [1, 1, 1, 1, 1, 1, 1, 1, 1, 1],\n",
        "#  [1, 1, 1, 1, 1, 1, 1, 1, 1, 1],\n",
        "#  [1, 1, 1, 1, 1, 1, 1, 1, 1, 1],\n",
        "#  [1, 1, 1, 1, 1, 1, 1, 1, 1, 1]]\n",
        "\n",
        "# Примечание!\n",
        "#   - новый класс не запрещено строить на базе существующих типов данных: списков, словарей и тд.\n",
        "#   - отображать в таблице/матрице название колонки не обязательно!\n",
        "#   - использовать готовые классы numpy.array() и pandas.DataFrame() запрещено!\n",
        "#   - проявите фантазию :)\n",
        "\n",
        "import random\n",
        "class Matrix:\n",
        "\n",
        "      def __init__(self, row, column):\n",
        "        self.row = row\n",
        "        self.column = column\n",
        "        self.data = [[1 for _ in range(column)] for _ in range(row)]\n",
        "\n",
        "      def fill_matrix(self, row, column, row_max_value):\n",
        "        self.row = row\n",
        "        self.column = column\n",
        "        self.data = [[random.randint(1, row_max_value) for _ in range(column)] for _ in range(row)]\n",
        "\n",
        "      def display(self):\n",
        "        for row in self.data:\n",
        "            print(row)\n",
        "\n",
        "print(\"1. Cоздаем матрицу \")\n",
        "m = Matrix(4, 8)\n",
        "m.display()\n",
        "\n",
        "n = int(input(\"\\n2. Введите N - максимальное значение для заполнения матрицы: \"))\n",
        "# Заполняем матрицу случайными значениями, где каждая колонка - число от 1 до N\n",
        "m.fill_matrix(4, 8, n)"
      ],
      "metadata": {
        "colab": {
          "base_uri": "https://localhost:8080/"
        },
        "id": "93nNpRD0UC4K",
        "outputId": "c653f132-e75f-44ab-bf66-ce86d16b6420"
      },
      "execution_count": 140,
      "outputs": [
        {
          "name": "stdout",
          "output_type": "stream",
          "text": [
            "1. Cоздаем матрицу \n",
            "[1, 1, 1, 1, 1, 1, 1, 1]\n",
            "[1, 1, 1, 1, 1, 1, 1, 1]\n",
            "[1, 1, 1, 1, 1, 1, 1, 1]\n",
            "[1, 1, 1, 1, 1, 1, 1, 1]\n",
            "\n",
            "2. Введите N - максимальное значение для заполнения матрицы: 3\n"
          ]
        }
      ]
    },
    {
      "cell_type": "code",
      "source": [
        "import numpy as np\n",
        "matrix = np.array([[1, 2, 3], [4, 5, 6], [7, 8, 9]])\n",
        "print(matrix)"
      ],
      "metadata": {
        "colab": {
          "base_uri": "https://localhost:8080/"
        },
        "id": "ipD6I_jqeV-Y",
        "outputId": "f0856bd6-d094-44a7-9380-a19534bf0626"
      },
      "execution_count": 134,
      "outputs": [
        {
          "output_type": "stream",
          "name": "stdout",
          "text": [
            "[[1 2 3]\n",
            " [4 5 6]\n",
            " [7 8 9]]\n"
          ]
        }
      ]
    }
  ]
}
