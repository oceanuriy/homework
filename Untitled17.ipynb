{
  "nbformat": 4,
  "nbformat_minor": 0,
  "metadata": {
    "colab": {
      "provenance": [],
      "authorship_tag": "ABX9TyNBcawGdO9tX3Ll0KRlc+7D",
      "include_colab_link": true
    },
    "kernelspec": {
      "name": "python3",
      "display_name": "Python 3"
    },
    "language_info": {
      "name": "python"
    }
  },
  "cells": [
    {
      "cell_type": "markdown",
      "metadata": {
        "id": "view-in-github",
        "colab_type": "text"
      },
      "source": [
        "<a href=\"https://colab.research.google.com/github/oceanuriy/homework/blob/main/Untitled17.ipynb\" target=\"_parent\"><img src=\"https://colab.research.google.com/assets/colab-badge.svg\" alt=\"Open In Colab\"/></a>"
      ]
    },
    {
      "cell_type": "code",
      "execution_count": 81,
      "metadata": {
        "colab": {
          "base_uri": "https://localhost:8080/"
        },
        "id": "zUFOu0_71m_N",
        "outputId": "e1f9679e-b16e-4133-aac9-163f95d8d90b"
      },
      "outputs": [
        {
          "output_type": "stream",
          "name": "stdout",
          "text": [
            "min = -134 -110 0 5\n"
          ]
        }
      ],
      "source": [
        "# Задача 2.1.\n",
        "\n",
        "# Создайте две функции maximum и minimum,\n",
        "# которые получают список целых чисел в качестве входных данных\n",
        "# и возвращают наибольшее и наименьшее число в этом списке соответственно.\n",
        "# Например,\n",
        "# * [4,6,2,1,9,63,-134,566]         -> max = 566, min = -134\n",
        "# * [-52, 56, 30, 29, -54, 0, -110] -> min = -110, max = 56\n",
        "# * [42, 54, 65, 87, 0] -> мин = 0, макс = 87\n",
        "# * [5]                             -> min = 5, max = 5\n",
        "# функции max и min использовать нельзя!\n",
        "\n",
        "def Minimum(arr):\n",
        "     Mini_ = arr[0]\n",
        "     for i in arr:\n",
        "        if i < Mini_:\n",
        "           Mini_ = i\n",
        "     return Mini_\n",
        "list1 = [4,6,2,1,9,63,-134,566]\n",
        "list2 = [-52, 56, 30, 29, -54, 0, -110]\n",
        "list3 = [42, 54, 65, 87, 0]\n",
        "list4 = [5]\n",
        "z = Minimum(list1)\n",
        "x = Minimum(list2)\n",
        "y = Minimum(list3)\n",
        "w = Minimum(list4)\n",
        "print('min =', z, x, y, w, )\n",
        "\n",
        "\n",
        ""
      ]
    },
    {
      "cell_type": "code",
      "source": [
        "def maximum(arr):\n",
        "     max_= arr[0]\n",
        "     for i in arr:\n",
        "        if i > max_:\n",
        "           max_ = i\n",
        "     return max_\n",
        "list1 = [4,6,2,1,9,63,-134,566]\n",
        "list2 = [-52, 56, 30, 29, -54, 0, -110]\n",
        "list3 = [42, 54, 65, 87, 0]\n",
        "list4 = [5]\n",
        "z = maximum(list1)\n",
        "x = maximum(list2)\n",
        "y = maximum(list3)\n",
        "w = maximum(list4)\n",
        "print('max =', z, x, y, w)\n"
      ],
      "metadata": {
        "colab": {
          "base_uri": "https://localhost:8080/"
        },
        "id": "UObJ5lkpC05Y",
        "outputId": "ed925df5-472e-4e17-feaa-acbc8bc4bab0"
      },
      "execution_count": 82,
      "outputs": [
        {
          "output_type": "stream",
          "name": "stdout",
          "text": [
            "max = 566 56 87 5\n"
          ]
        }
      ]
    }
  ]
}