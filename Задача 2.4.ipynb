{
  "nbformat": 4,
  "nbformat_minor": 0,
  "metadata": {
    "colab": {
      "provenance": [],
      "authorship_tag": "ABX9TyMYMzjbwJzSmm1Q5vlvafTr",
      "include_colab_link": true
    },
    "kernelspec": {
      "name": "python3",
      "display_name": "Python 3"
    },
    "language_info": {
      "name": "python"
    }
  },
  "cells": [
    {
      "cell_type": "markdown",
      "metadata": {
        "id": "view-in-github",
        "colab_type": "text"
      },
      "source": [
        "<a href=\"https://colab.research.google.com/github/oceanuriy/homework/blob/main/Untitled13.ipynb\" target=\"_parent\"><img src=\"https://colab.research.google.com/assets/colab-badge.svg\" alt=\"Open In Colab\"/></a>"
      ]
    },
    {
      "cell_type": "code",
      "source": [
        "\n",
        "\n",
        "# Дополнительно\n",
        "\n",
        "# Пункт С.\n",
        "# Удалите слова из предложения, если они содержат ровно один восклицательный знак.\n",
        "# Слова разделены одним пробелом.\n",
        "# Например,\n",
        "# remove(\"Hi!\") === \"\"\n",
        "# remove(\"Hi! Hi!\") === \"\"\n",
        "# remove(\"Hi! Hi! Hi!\") === \"\"\n",
        "# remove(\"Hi Hi! Hi!\") === \"Hi\"\n",
        "# remove(\"Hi! !Hi Hi!\") === \"\"\n",
        "# remove(\"Hi! Hi!! Hi!\") === \"Hi!!\"\n",
        "# remove(\"Hi! !Hi! Hi!\") === \"!Hi!\"\n",
        "\n",
        "def remove_word_with_one_em(s):\n",
        "    pass"
      ],
      "metadata": {
        "id": "FioeY7YwtQl4"
      },
      "execution_count": null,
      "outputs": []
    },
    {
      "cell_type": "code",
      "source": [
        "# Задача 2.4.\n",
        "\n",
        "# Пункт A.\n",
        "# Напишите функцию, которая удаляет все восклицательные знаки из заданной строк.\n",
        "# Например,\n",
        "# foo(\"Hi! Hello!\") -> \"Hi Hello\"\n",
        "# foo(\"\") -> \"\"\n",
        "# foo(\"Oh, no!!!\") -> \"Oh, no\"\n",
        "\n",
        "def remove_exclamation_marks(s):\n",
        "    pass\n",
        "    return s.replace(\"!\", \"\")\n",
        "s = str(input(\"Введите строку: \"))\n",
        "print (remove_exclamation_marks(s))"
      ],
      "metadata": {
        "colab": {
          "base_uri": "https://localhost:8080/"
        },
        "id": "3vHxFa2QtUCK",
        "outputId": "5760db73-0097-463d-98f2-59c78ed52130"
      },
      "execution_count": 111,
      "outputs": [
        {
          "output_type": "stream",
          "name": "stdout",
          "text": [
            "Введите строку: \"Hi! Hello!\"\n",
            "\"Hi Hello\"\n"
          ]
        }
      ]
    },
    {
      "cell_type": "code",
      "source": [
        "# Пункт B.\n",
        "# Удалите восклицательный знак из конца строки.\n",
        "# remove(\"Hi!\") == \"Hi\"\n",
        "# remove(\"Hi!!!\") == \"Hi!!\"\n",
        "# remove(\"!Hi\") == \"!Hi\"\n",
        "\n",
        "def remove_last_em(s):\n",
        "    pass\n",
        "    return s.replace(\"!\", \"\", 1)\n",
        "s = str(input(\"Введите строку: \"))\n",
        "print (remove_last_em(s))\n"
      ],
      "metadata": {
        "colab": {
          "base_uri": "https://localhost:8080/"
        },
        "id": "AUystJlywYyd",
        "outputId": "55904d6c-42b7-449d-c378-0a3bbac2118b"
      },
      "execution_count": 168,
      "outputs": [
        {
          "output_type": "stream",
          "name": "stdout",
          "text": [
            "Введите строку: \"!Hi\"\n",
            "\"Hi\"\n"
          ]
        }
      ]
    }
  ]
}
