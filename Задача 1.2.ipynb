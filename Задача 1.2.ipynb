{
  "nbformat": 4,
  "nbformat_minor": 0,
  "metadata": {
    "colab": {
      "provenance": [],
      "authorship_tag": "ABX9TyNZpuoE12lfmdzmcliO8sfj",
      "include_colab_link": true
    },
    "kernelspec": {
      "name": "python3",
      "display_name": "Python 3"
    },
    "language_info": {
      "name": "python"
    }
  },
  "cells": [
    {
      "cell_type": "markdown",
      "metadata": {
        "id": "view-in-github",
        "colab_type": "text"
      },
      "source": [
        "<a href=\"https://colab.research.google.com/github/oceanuriy/homework/blob/main/Untitled14.ipynb\" target=\"_parent\"><img src=\"https://colab.research.google.com/assets/colab-badge.svg\" alt=\"Open In Colab\"/></a>"
      ]
    },
    {
      "cell_type": "code",
      "source": [
        "# Пункт A.\n",
        "# Приведем плейлист песен в виде списка списков\n",
        "# Список my_favorite_songs содержит список названий и длительности каждого трека\n",
        "# Выведите общее время звучания трех случайных песен в формате\n",
        "# Три песни звучат ХХХ минут\n",
        "\n",
        "my_favorite_songs = [\n",
        "    ['Пустая минутка', 3.03],\n",
        "    ['Новое спасение', 4.02],\n",
        "    ['Остаться в живых', 3.40],\n",
        "    ['Вне связи', 3.03],\n",
        "    ['Своего рода сказка', 5.28],\n",
        "    ['Легко', 4.15],\n",
        "    ['Прекрасный день', 4.04],\n",
        "    ['Некуда бежать', 2.58],\n",
        "    ['В этом мире', 4.02],\n",
        "]\n",
        "three_songs = my_favorite_songs[3][1] + my_favorite_songs[5][1] + my_favorite_songs[8][1]\n",
        "three_songs = round(three_songs, 2)\n",
        "print('Три песни звучат', three_songs, 'минут')"
      ],
      "metadata": {
        "colab": {
          "base_uri": "https://localhost:8080/"
        },
        "id": "c-eKmW7qp8n7",
        "outputId": "b53218f2-dc02-45a4-ff85-58a4472a59fa"
      },
      "execution_count": 9,
      "outputs": [
        {
          "output_type": "stream",
          "name": "stdout",
          "text": [
            "Три песни звучат 11.2 минут\n"
          ]
        }
      ]
    },
    {
      "cell_type": "code",
      "source": [
        "# Пункт B.\n",
        "# Есть словарь песен\n",
        "# Распечатайте общее время звучания трех случайных песен\n",
        "# Вывод: Три песни звучат ХХХ минут.\n",
        "my_favorite_songs_dict = {\n",
        "    'Упусти мгновение': 3.03,\n",
        "    'Новое спасение': 4.02,\n",
        "    'Остаться в живых': 3.40,\n",
        "    'Вне связи': 3.03,\n",
        "    'Этакая сказка': 5.28,\n",
        "    'Легко': 4.15,\n",
        "    'Прекрасный день': 4.04,\n",
        "    'Бежать некуда': 2.58,\n",
        "    'В этом мире': 4.02,\n",
        "}\n",
        "another_three_songs = my_favorite_songs_dict['Остаться в живых'] + my_favorite_songs_dict['Легко'] + my_favorite_songs_dict['В этом мире']\n",
        "another_three_songs = round(another_three_songs, 2)\n",
        "print('Три песни звучат', another_three_songs, 'минут')"
      ],
      "metadata": {
        "colab": {
          "base_uri": "https://localhost:8080/"
        },
        "id": "HZ7BxGoMqBqf",
        "outputId": "25bc95de-f5e3-459c-ca55-5bb8241e0258"
      },
      "execution_count": 10,
      "outputs": [
        {
          "output_type": "stream",
          "name": "stdout",
          "text": [
            "Три песни звучат 11.57 минут\n"
          ]
        }
      ]
    },
    {
      "cell_type": "code",
      "source": [
        "# Дополнительно для пунктов A и B\n",
        "# Пункт C.\n",
        "# Сгенерируйте случайные песни с помощью модуля random\n",
        "# Импорт случайным образом\n",
        "my_favorite_songs = [\n",
        "    ['Пустая минутка', 3.03],\n",
        "    ['Новое спасение', 4.02],\n",
        "    ['Остаться в живых', 3.40],\n",
        "    ['Вне связи', 3.03],\n",
        "    ['Своего рода сказка', 5.28],\n",
        "    ['Легко', 4.15],\n",
        "    ['Прекрасный день', 4.04],\n",
        "    ['Некуда бежать', 2.58],\n",
        "    ['В этом мире', 4.02],\n",
        "]\n",
        "import random\n",
        "random_songs = random.choice(my_favorite_songs)\n",
        "z =random_songs[0]\n",
        "print(z)"
      ],
      "metadata": {
        "colab": {
          "base_uri": "https://localhost:8080/"
        },
        "id": "U0fI66yRqLu1",
        "outputId": "6bb13b8c-f012-4865-87b8-7ebece218cdc"
      },
      "execution_count": 11,
      "outputs": [
        {
          "output_type": "stream",
          "name": "stdout",
          "text": [
            "Прекрасный день\n"
          ]
        }
      ]
    },
    {
      "cell_type": "code",
      "source": [
        "my_favorite_songs_dict = {\n",
        "    'Упусти мгновение': 3.03,\n",
        "    'Новое спасение': 4.02,\n",
        "    'Остаться в живых': 3.40,\n",
        "    'Вне связи': 3.03,\n",
        "    'Этакая сказка': 5.28,\n",
        "    'Легко': 4.15,\n",
        "    'Прекрасный день': 4.04,\n",
        "    'Бежать некуда': 2.58,\n",
        "    'В этом мире': 4.02,\n",
        "}\n",
        "import random\n",
        "random_songs = random.choice(my_favorite_songs)\n",
        "z =random_songs[0]\n",
        "print(z)"
      ],
      "metadata": {
        "colab": {
          "base_uri": "https://localhost:8080/"
        },
        "id": "CCMrt9DlqVse",
        "outputId": "d9476f3b-60fd-4281-c3f5-5870b0b61060"
      },
      "execution_count": 13,
      "outputs": [
        {
          "output_type": "stream",
          "name": "stdout",
          "text": [
            "Вне связи\n"
          ]
        }
      ]
    },
    {
      "cell_type": "code",
      "source": [
        "# Дополнительно\n",
        "# Пункт D.\n",
        "# Переведите минуты и секунды в формат времени. Используйте модуль datetime\n",
        "\n",
        "import datetime\n",
        "sec = 2772\n",
        "convert = str(datetime.timedelta(seconds = sec))\n",
        "print(convert)"
      ],
      "metadata": {
        "colab": {
          "base_uri": "https://localhost:8080/"
        },
        "id": "WODLm_ofqmpV",
        "outputId": "4b8e996c-298a-496c-879b-2afe92e66108"
      },
      "execution_count": 14,
      "outputs": [
        {
          "output_type": "stream",
          "name": "stdout",
          "text": [
            "0:46:12\n"
          ]
        }
      ]
    }
  ]
}
