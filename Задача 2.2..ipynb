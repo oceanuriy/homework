{
  "nbformat": 4,
  "nbformat_minor": 0,
  "metadata": {
    "colab": {
      "provenance": [],
      "authorship_tag": "ABX9TyPTITEsWIshaR1JzzQtsBpH",
      "include_colab_link": true
    },
    "kernelspec": {
      "name": "python3",
      "display_name": "Python 3"
    },
    "language_info": {
      "name": "python"
    }
  },
  "cells": [
    {
      "cell_type": "markdown",
      "metadata": {
        "id": "view-in-github",
        "colab_type": "text"
      },
      "source": [
        "<a href=\"https://colab.research.google.com/github/oceanuriy/homework/blob/main/Untitled13.ipynb\" target=\"_parent\"><img src=\"https://colab.research.google.com/assets/colab-badge.svg\" alt=\"Open In Colab\"/></a>"
      ]
    },
    {
      "cell_type": "code",
      "source": [
        "# Задача 2.2.\n",
        "\n",
        "# Напишите функцию, которая возвращает номер квартала по номеру месяца\n",
        "# Например:\n",
        "# месяц 2 (февраль) является частью первого квартала;\n",
        "# месяц 6 (июнь) является частью второго квартала;\n",
        "# месяц 11 (ноябрь) является частью четвертого квартала.\n",
        "\n",
        "def quarter_of(month):\n",
        " if month in [1,2,3]:\n",
        "    return 'является частью первого квартала'\n",
        " elif month in [4,5,6]:\n",
        "    return 'является частью второго квартала'\n",
        " elif month in [7,8,9]:\n",
        "    return 'является частью третьего квартала'\n",
        " elif month in [10,11,12]:\n",
        "        return 'является частью четвертого квартала'\n",
        "month = float(input(\"Введите номер месяца: \"))\n",
        "print(quarter_of(month))"
      ],
      "metadata": {
        "colab": {
          "base_uri": "https://localhost:8080/"
        },
        "id": "LLkXuQGeHq1p",
        "outputId": "59a052f0-13e2-4c99-b802-e95ff87b2281"
      },
      "execution_count": null,
      "outputs": [
        {
          "output_type": "stream",
          "name": "stdout",
          "text": [
            "Введите номер месяца: 1\n",
            "является частью первого квартала\n"
          ]
        }
      ]
    },
    {
      "cell_type": "code",
      "source": [
        "# Задача 2.2.1\n",
        "\n",
        "# Напишите функцию, которая возвращает номер квартал по номеру месяца\n",
        "# Например:\n",
        "# месяц 2 (февраль) является частью первого квартала;\n",
        "# месяц 6 (июнь) является частью второго квартала;\n",
        "# месяц 11 (ноябрь) является частью четвертого квартала.\n",
        "\n",
        "def quarter_of(month):\n",
        "    pass\n",
        "    if month in [1, 2, 3]:\n",
        "        return '1'\n",
        "    elif month in [4, 5, 6]:\n",
        "        return '2'\n",
        "    elif month in [7, 8, 9]:\n",
        "        return '3'\n",
        "    elif month in [10, 11, 12]:\n",
        "        return '4'\n",
        "\n",
        "month = int(input(\"Введите номер месяца: \"))\n",
        "print(\"месяц\", month, \"является частью\", quarter_of(month), \"квартала\")"
      ],
      "metadata": {
        "colab": {
          "base_uri": "https://localhost:8080/"
        },
        "id": "AXkpqi4AVCOj",
        "outputId": "aa7ea30c-8fe2-4be7-8bf4-fd0975f04eda"
      },
      "execution_count": 65,
      "outputs": [
        {
          "output_type": "stream",
          "name": "stdout",
          "text": [
            "Введите номер месяца: 1\n",
            "месяц 1 является частью 1 квартала\n"
          ]
        }
      ]
    }
  ]
}
