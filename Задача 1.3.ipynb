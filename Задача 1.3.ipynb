{
  "nbformat": 4,
  "nbformat_minor": 0,
  "metadata": {
    "colab": {
      "provenance": [],
      "authorship_tag": "ABX9TyPJ5aTzO1lVPCMC2rRvi7Tv",
      "include_colab_link": true
    },
    "kernelspec": {
      "name": "python3",
      "display_name": "Python 3"
    },
    "language_info": {
      "name": "python"
    }
  },
  "cells": [
    {
      "cell_type": "markdown",
      "metadata": {
        "id": "view-in-github",
        "colab_type": "text"
      },
      "source": [
        "<a href=\"https://colab.research.google.com/github/oceanuriy/homework/blob/main/Untitled15.ipynb\" target=\"_parent\"><img src=\"https://colab.research.google.com/assets/colab-badge.svg\" alt=\"Open In Colab\"/></a>"
      ]
    },
    {
      "cell_type": "code",
      "execution_count": 2,
      "metadata": {
        "colab": {
          "base_uri": "https://localhost:8080/"
        },
        "id": "-1RGvjiNsEP7",
        "outputId": "09bf4137-8cb4-4619-866a-2ff5975cab4e"
      },
      "outputs": [
        {
          "output_type": "stream",
          "name": "stdout",
          "text": [
            "14\n",
            "Такого месяца нет!\n"
          ]
        }
      ],
      "source": [
        "# Задача 1.3.\n",
        "\n",
        "# Напишите скрипт, который принимает от пользователя номер месяца,\n",
        "# а возвращает количество дней в нем.\n",
        "# Результат проверки вывести на консоль\n",
        "# Допущение: в феврале 28 дней\n",
        "# Если номер месяца некорректен - сообщить об этом\n",
        "# Например,\n",
        "    # Введите номер месяца: 3\n",
        "    # Вы ввели март. 31 дней\n",
        "    # Введите номер месяца: 2\n",
        "    # Вы ввели февраль. 28 дней\n",
        "    # Введите номер месяца: 15\n",
        "    # Такого месяца нет!\n",
        "a = input()\n",
        "if a == '1':\n",
        "    print('Январь 31 день')\n",
        "elif a == '2':\n",
        "    print('Февраль 28 дней')\n",
        "elif a == '3':\n",
        "    print('Март 31 день')\n",
        "elif a == '4':\n",
        "    print('Апрель 30 дней')\n",
        "elif a == '5':\n",
        "    print('Май 31 день')\n",
        "elif a == '6':\n",
        "    print('Июнь 30 дней')\n",
        "elif a == '7':\n",
        "    print('Июль 31 день')\n",
        "elif a == '8':\n",
        "    print('Август 31 день')\n",
        "elif a == '9':\n",
        "    print('Сентябрь 30 дней')\n",
        "elif a == '10':\n",
        "    print('Октябрь 31 день')\n",
        "elif a == '11':\n",
        "    print('Ноябрь 30 дней')\n",
        "elif a == '12':\n",
        "    print('Декабрь 31 день')\n",
        "else:\n",
        "    print('Такого месяца нет!')"
      ]
    },
    {
      "cell_type": "code",
      "source": [
        "# Задача 1.3.\n",
        "\n",
        "# Напишите скрипт, который принимает от пользователя номер месяца,\n",
        "# а возвращает количество дней в нем.\n",
        "# Результат проверки вывести на консоль\n",
        "# Допущение: в феврале 28 дней\n",
        "# Если номер месяца некорректен - сообщить об этом\n",
        "# Например,\n",
        "    # Введите номер месяца: 3\n",
        "    # Вы ввели март. 31 дней\n",
        "    # Введите номер месяца: 2\n",
        "    # Вы ввели февраль. 28 дней\n",
        "    # Введите номер месяца: 15\n",
        "    # Такого месяца нет!\n",
        "a = input()\n",
        "if a == '1':\n",
        "    print('Январь 31 день')\n",
        "elif a == '2':\n",
        "    print('Февраль 28 дней')\n",
        "elif a == '3':\n",
        "    print('Март 31 день')\n",
        "elif a == '4':\n",
        "    print('Апрель 30 дней')\n",
        "elif a == '5':\n",
        "    print('Май 31 день')\n",
        "elif a == '6':\n",
        "    print('Июнь 30 дней')\n",
        "elif a == '7':\n",
        "    print('Июль 31 день')\n",
        "elif a == '8':\n",
        "    print('Август 31 день')\n",
        "elif a == '9':\n",
        "    print('Сентябрь 30 дней')\n",
        "elif a == '10':\n",
        "    print('Октябрь 31 день')\n",
        "elif a == '11':\n",
        "    print('Ноябрь 30 дней')\n",
        "elif a == '12':\n",
        "    print('Декабрь 31 день')\n",
        "else:\n",
        "    print('Такого месяца нет!')"
      ],
      "metadata": {
        "colab": {
          "base_uri": "https://localhost:8080/"
        },
        "id": "XmnxNL-RsPxn",
        "outputId": "1659ddf7-2458-4700-856c-de8c4c760979"
      },
      "execution_count": 3,
      "outputs": [
        {
          "output_type": "stream",
          "name": "stdout",
          "text": [
            "7\n",
            "Июль 31 день\n"
          ]
        }
      ]
    }
  ]
}
