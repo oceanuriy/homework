{
  "nbformat": 4,
  "nbformat_minor": 0,
  "metadata": {
    "colab": {
      "provenance": [],
      "authorship_tag": "ABX9TyOpolW6knryxbWDYjGJSxlE",
      "include_colab_link": true
    },
    "kernelspec": {
      "name": "python3",
      "display_name": "Python 3"
    },
    "language_info": {
      "name": "python"
    }
  },
  "cells": [
    {
      "cell_type": "markdown",
      "metadata": {
        "id": "view-in-github",
        "colab_type": "text"
      },
      "source": [
        "<a href=\"https://colab.research.google.com/github/oceanuriy/homework/blob/main/Untitled14.ipynb\" target=\"_parent\"><img src=\"https://colab.research.google.com/assets/colab-badge.svg\" alt=\"Open In Colab\"/></a>"
      ]
    },
    {
      "cell_type": "code",
      "execution_count": 5,
      "metadata": {
        "colab": {
          "base_uri": "https://localhost:8080/"
        },
        "id": "0R4pR8pTnWZ7",
        "outputId": "be7c2e3f-b696-4183-d605-7b5543f095eb"
      },
      "outputs": [
        {
          "output_type": "stream",
          "name": "stdout",
          "text": [
            "Упусти мгновение\n",
            "новое спасение\n",
            "оставаясь живым\n",
            "начни с меня\n"
          ]
        }
      ],
      "source": [
        "my_favorite_songs = 'Упусти мгновение, оставаясь» живым, своего рода сказка, начни меня, новое спасение'\n",
        "# Выведите на консоль с помощью индексации строки, последовательно: первый трек, последний, второй, второй с конца\n",
        "# Нельзя переопределять my_favorite_songs и запятая не должна выводиться.\n",
        "\n",
        "# Решение\n",
        "my_favorite_songs = 'Упусти мгновение, оставаясь живым, своего рода сказка, начни с меня, новое спасение'\n",
        "\n",
        "print(my_favorite_songs[: 16])\n",
        "print(my_favorite_songs[-14:])\n",
        "print(my_favorite_songs[18:33])\n",
        "print(my_favorite_songs[-28:-16])"
      ]
    }
  ]
}
