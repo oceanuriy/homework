{
  "nbformat": 4,
  "nbformat_minor": 0,
  "metadata": {
    "colab": {
      "provenance": [],
      "toc_visible": true,
      "authorship_tag": "ABX9TyMYsBjTWfxlsyd0JoR40bLC",
      "include_colab_link": true
    },
    "kernelspec": {
      "name": "python3",
      "display_name": "Python 3"
    },
    "language_info": {
      "name": "python"
    }
  },
  "cells": [
    {
      "cell_type": "markdown",
      "metadata": {
        "id": "view-in-github",
        "colab_type": "text"
      },
      "source": [
        "<a href=\"https://colab.research.google.com/github/oceanuriy/homework/blob/main/Untitled13.ipynb\" target=\"_parent\"><img src=\"https://colab.research.google.com/assets/colab-badge.svg\" alt=\"Open In Colab\"/></a>"
      ]
    },
    {
      "cell_type": "code",
      "execution_count": 11,
      "metadata": {
        "colab": {
          "base_uri": "https://localhost:8080/"
        },
        "id": "yQn83xK-7EKA",
        "outputId": "de11da9c-f3b3-4762-ffe0-7a2cce0c12d0"
      },
      "outputs": [
        {
          "output_type": "stream",
          "name": "stdout",
          "text": [
            "12\n",
            "Декабрь 31 день\n"
          ]
        }
      ],
      "source": [
        "a = input()\n",
        "if a == '1':\n",
        "    print('Январь 31 день')\n",
        "elif a == '2':\n",
        "    print('Февраль 28 дней')\n",
        "elif a == '3':\n",
        "    print('Март 31 день')\n",
        "elif a == '4':\n",
        "    print('Апрель 30 дней')\n",
        "elif a == '5':\n",
        "    print('Май 31 день')\n",
        "elif a == '6':\n",
        "    print('Июнь 30 дней')\n",
        "elif a == '7':\n",
        "    print('Июль 31 день')\n",
        "elif a == '8':\n",
        "    print('Август 31 день')\n",
        "elif a == '9':\n",
        "    print('Сентябрь 30 дней')\n",
        "elif a == '10':\n",
        "    print('Октябрь 31 день')\n",
        "elif a == '11':\n",
        "    print('Ноябрь 30 дней')\n",
        "elif a == '12':\n",
        "    print('Декабрь 31 день')\n",
        "else:\n",
        "    print('Такого месяца нет!')"
      ]
    }
  ]
}