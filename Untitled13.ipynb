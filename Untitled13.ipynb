{
  "nbformat": 4,
  "nbformat_minor": 0,
  "metadata": {
    "colab": {
      "provenance": [],
      "authorship_tag": "ABX9TyOSBI2n354IjIaJ54K8mr3/",
      "include_colab_link": true
    },
    "kernelspec": {
      "name": "python3",
      "display_name": "Python 3"
    },
    "language_info": {
      "name": "python"
    }
  },
  "cells": [
    {
      "cell_type": "markdown",
      "metadata": {
        "id": "view-in-github",
        "colab_type": "text"
      },
      "source": [
        "<a href=\"https://colab.research.google.com/github/oceanuriy/homework/blob/main/Untitled13.ipynb\" target=\"_parent\"><img src=\"https://colab.research.google.com/assets/colab-badge.svg\" alt=\"Open In Colab\"/></a>"
      ]
    },
    {
      "cell_type": "code",
      "source": [
        "Названия = {\n",
        "    'Кроссовки тип 3 (Adidas)': '100000110',\n",
        "    'Мячик тип 2 (Adidas)': '100000146',\n",
        "    'Кепка тип 1 (Adidas)': '100000149',\n",
        "    'Ремень тип 2 (Nike)': '100000194',\n",
        "    'Футболка тип 1 (Adidas)': '100000224',\n",
        "    'Шапка тип 5 (Puma)': '100000280',\n",
        "}\n",
        "магазин = {\n",
        "    '100000110': [{'количество': 31, 'цена': 1637}],\n",
        "    '100000146': [ {'количество': 4, 'цена': 45},\n",
        "                   {'количество': 10, 'цена': 48}],\n",
        "    '100000149': [ {'количество': 28, 'цена': 279},\n",
        "                   {'количество': 32, 'цена': 291}],\n",
        "    '100000194': [{'количество': 8, 'цена': 220},\n",
        "                  {'количество': 1, 'цена': 170}],\n",
        "    '100000224': [{'количество': 61, 'цена': 438},\n",
        "                  {'количество': 23, 'цена': 302},\n",
        "                   {'количество': 50, 'цена': 412}],\n",
        "    '100000280': [{'количество': 26, 'цена': 175}, ]\n",
        "}\n",
        "for i in Названия:\n",
        "    i_name = i\n",
        "    i_code = Названия[i]\n",
        "    i_quantity, i_total_amount = 0, 0\n",
        "\n",
        "    for n in магазин[i_code]:\n",
        "        i_quantity += n['количество']\n",
        "        i_total_amount += n['цена'] * n['количество']\n",
        "\n",
        "    print(i_name, i_quantity, 'шт, стоимость', i_total_amount, 'руб')\n"
      ],
      "metadata": {
        "colab": {
          "base_uri": "https://localhost:8080/"
        },
        "id": "DFvpXOcSipJ9",
        "outputId": "2ad79b5d-0bae-4211-b2d5-9df102bfa6ce"
      },
      "execution_count": 46,
      "outputs": [
        {
          "output_type": "stream",
          "name": "stdout",
          "text": [
            "Кроссовки тип 3 (Adidas) 31 шт, стоимость 50747 руб\n",
            "Мячик тип 2 (Adidas) 14 шт, стоимость 660 руб\n",
            "Кепка тип 1 (Adidas) 60 шт, стоимость 17124 руб\n",
            "Ремень тип 2 (Nike) 9 шт, стоимость 1930 руб\n",
            "Футболка тип 1 (Adidas) 134 шт, стоимость 54264 руб\n",
            "Шапка тип 5 (Puma) 26 шт, стоимость 4550 руб\n"
          ]
        }
      ]
    }
  ]
}