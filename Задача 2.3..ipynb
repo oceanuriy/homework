{
  "nbformat": 4,
  "nbformat_minor": 0,
  "metadata": {
    "colab": {
      "provenance": [],
      "authorship_tag": "ABX9TyNEON78qss55QMAJlAzE4VV",
      "include_colab_link": true
    },
    "kernelspec": {
      "name": "python3",
      "display_name": "Python 3"
    },
    "language_info": {
      "name": "python"
    }
  },
  "cells": [
    {
      "cell_type": "markdown",
      "metadata": {
        "id": "view-in-github",
        "colab_type": "text"
      },
      "source": [
        "<a href=\"https://colab.research.google.com/github/oceanuriy/homework/blob/main/Untitled13.ipynb\" target=\"_parent\"><img src=\"https://colab.research.google.com/assets/colab-badge.svg\" alt=\"Open In Colab\"/></a>"
      ]
    },
    {
      "cell_type": "code",
      "source": [
        "# Задача 2.3.\n",
        "\n",
        "# Напишите функцию, которая принимает цифры от 0 до 9 и возвращает значение прописью.\n",
        "# Например,\n",
        "# switch_it_up(1) -> 'One'\n",
        "# switch_it_up(3) -> 'Three'\n",
        "# switch_it_up(10000) -> None\n",
        "# Использовать условный оператор if-elif-else нельзя!\n",
        "\n",
        "def switch_it_up(number):\n",
        "    pass"
      ],
      "metadata": {
        "id": "811W2Ef2c__1"
      },
      "execution_count": null,
      "outputs": []
    },
    {
      "cell_type": "code",
      "source": [
        "def switch_it_up(number):\n",
        "    pass\n",
        "    switch = {\n",
        "              0: 'Zero',\n",
        "              1: 'One',\n",
        "              2: 'Two',\n",
        "              3: 'Three',\n",
        "              4: 'Four',\n",
        "              5: 'Five',\n",
        "              6: 'Six',\n",
        "              7: 'Seven',\n",
        "              8: 'Eight',\n",
        "              9: 'Nine'\n",
        "              }\n",
        "    return switch[number]\n",
        "number= int(input(\"Введите цифру: \"))\n",
        "print (switch_it_up(number))\n",
        "\n",
        ""
      ],
      "metadata": {
        "colab": {
          "base_uri": "https://localhost:8080/"
        },
        "id": "2a76hJEteJlz",
        "outputId": "f1036993-30ce-4151-81a6-07d98fa8441c"
      },
      "execution_count": 105,
      "outputs": [
        {
          "output_type": "stream",
          "name": "stdout",
          "text": [
            "Введите цифру: 4\n",
            "Four\n"
          ]
        }
      ]
    },
    {
      "cell_type": "code",
      "source": [
        "def switch_it_up(n):\n",
        "    pass\n",
        "    return ['Zero','One','Two','Three','Four','Five','Six','Seven','Eight','Nine'][n]\n",
        "n = int(input(\"Введите цифру: \"))\n",
        "print (switch_it_up(n))"
      ],
      "metadata": {
        "colab": {
          "base_uri": "https://localhost:8080/"
        },
        "id": "pURW_OzefvVs",
        "outputId": "abd500a4-89b8-436a-a8cf-97fc76e86b9d"
      },
      "execution_count": 100,
      "outputs": [
        {
          "output_type": "stream",
          "name": "stdout",
          "text": [
            "Введите цифру: 8\n",
            "Eight\n"
          ]
        }
      ]
    }
  ]
}
